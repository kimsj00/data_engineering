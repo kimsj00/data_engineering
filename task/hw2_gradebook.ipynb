{
 "cells": [
  {
   "cell_type": "code",
   "execution_count": 1,
   "id": "3946551b-6a78-4ae2-9512-f00bf9f12189",
   "metadata": {},
   "outputs": [],
   "source": [
    "subjects = [\"physics\", \"calculus\", \"poetry\", \"history\"]"
   ]
  },
  {
   "cell_type": "code",
   "execution_count": 2,
   "id": "b0a34cd4-39f8-4655-8a44-e32685ec8628",
   "metadata": {},
   "outputs": [],
   "source": [
    "grades = [98, 97, 85, 88]"
   ]
  },
  {
   "cell_type": "code",
   "execution_count": 10,
   "id": "81045d1a-420f-4386-9381-c8b442826fe4",
   "metadata": {},
   "outputs": [],
   "source": [
    "gradebook = []\n",
    "for i in range(len(grades)):\n",
    "    tmp = [subjects[i], grades[i]]\n",
    "    gradebook.append(tmp)"
   ]
  },
  {
   "cell_type": "code",
   "execution_count": 13,
   "id": "39392557-645e-4e94-884c-95b14fc27198",
   "metadata": {},
   "outputs": [
    {
     "data": {
      "text/plain": [
       "[['physics', 98],\n",
       " ['calculus', 97],\n",
       " ['poetry', 85],\n",
       " ['history', 88],\n",
       " ['computer science', 100]]"
      ]
     },
     "execution_count": 13,
     "metadata": {},
     "output_type": "execute_result"
    }
   ],
   "source": [
    "tmp = [\"computer science\", 100]\n",
    "gradebook.append(tmp)"
   ]
  },
  {
   "cell_type": "code",
   "execution_count": 14,
   "id": "36e23d92-828c-487e-9274-2f7829e94855",
   "metadata": {},
   "outputs": [],
   "source": [
    "tmp = [\"visual arts\", 93]\n",
    "gradebook.append(tmp)"
   ]
  },
  {
   "cell_type": "code",
   "execution_count": 15,
   "id": "17a1637e-616f-48f0-b25d-d9d0bb282ac7",
   "metadata": {},
   "outputs": [],
   "source": [
    "gradebook[5][1] += 5"
   ]
  },
  {
   "cell_type": "code",
   "execution_count": 20,
   "id": "ab61e233-607c-413f-b2fe-2c1a4d7cc9c3",
   "metadata": {},
   "outputs": [
    {
     "ename": "ValueError",
     "evalue": "list.remove(x): x not in list",
     "output_type": "error",
     "traceback": [
      "\u001b[1;31m---------------------------------------------------------------------------\u001b[0m",
      "\u001b[1;31mValueError\u001b[0m                                Traceback (most recent call last)",
      "Input \u001b[1;32mIn [20]\u001b[0m, in \u001b[0;36m<cell line: 1>\u001b[1;34m()\u001b[0m\n\u001b[1;32m----> 1\u001b[0m \u001b[43mgradebook\u001b[49m\u001b[38;5;241;43m.\u001b[39;49m\u001b[43mremove\u001b[49m\u001b[43m(\u001b[49m\u001b[43m[\u001b[49m\u001b[38;5;124;43m'\u001b[39;49m\u001b[38;5;124;43mpoetry\u001b[39;49m\u001b[38;5;124;43m'\u001b[39;49m\u001b[43m,\u001b[49m\u001b[43m \u001b[49m\u001b[38;5;241;43m85\u001b[39;49m\u001b[43m]\u001b[49m\u001b[43m)\u001b[49m\n",
      "\u001b[1;31mValueError\u001b[0m: list.remove(x): x not in list"
     ]
    }
   ],
   "source": [
    "gradebook.remove(['poetry', 85])"
   ]
  },
  {
   "cell_type": "code",
   "execution_count": 24,
   "id": "449f9600-e2db-488b-8887-0c76bb706a83",
   "metadata": {},
   "outputs": [],
   "source": [
    "gradebook.insert(2,[\"poetry\", \"pass\"])"
   ]
  },
  {
   "cell_type": "code",
   "execution_count": 26,
   "id": "d43f3330-e60f-499c-9e49-c1df68720f9e",
   "metadata": {},
   "outputs": [],
   "source": [
    "last_semester_gradebook = [[\"politics\", 80], [\"latin\", 96], [\"dance\", 97], [\"architecture\", 65]]"
   ]
  },
  {
   "cell_type": "code",
   "execution_count": 27,
   "id": "aab36231-2fd7-4b74-b535-657f4c787515",
   "metadata": {},
   "outputs": [],
   "source": [
    "full_gradebook = last_semester_gradebook + gradebook"
   ]
  },
  {
   "cell_type": "code",
   "execution_count": 28,
   "id": "b4c936d5-919e-4652-8c2e-79d8267b9d34",
   "metadata": {},
   "outputs": [
    {
     "data": {
      "text/plain": [
       "[['politics', 80],\n",
       " ['latin', 96],\n",
       " ['dance', 97],\n",
       " ['architecture', 65],\n",
       " ['physics', 98],\n",
       " ['calculus', 97],\n",
       " ['poetry', 'pass'],\n",
       " ['history', 88],\n",
       " ['computer science', 100],\n",
       " ['visual arts', 98]]"
      ]
     },
     "execution_count": 28,
     "metadata": {},
     "output_type": "execute_result"
    }
   ],
   "source": [
    "full_gradebook"
   ]
  }
 ],
 "metadata": {
  "kernelspec": {
   "display_name": "Python 3 (ipykernel)",
   "language": "python",
   "name": "python3"
  },
  "language_info": {
   "codemirror_mode": {
    "name": "ipython",
    "version": 3
   },
   "file_extension": ".py",
   "mimetype": "text/x-python",
   "name": "python",
   "nbconvert_exporter": "python",
   "pygments_lexer": "ipython3",
   "version": "3.9.12"
  }
 },
 "nbformat": 4,
 "nbformat_minor": 5
}
